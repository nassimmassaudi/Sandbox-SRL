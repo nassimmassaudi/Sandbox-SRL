{
 "cells": [
  {
   "cell_type": "code",
   "execution_count": 1,
   "metadata": {},
   "outputs": [
    {
     "ename": "AttributeError",
     "evalue": "'tuple' object has no attribute 'last'",
     "output_type": "error",
     "traceback": [
      "\u001b[0;31m---------------------------------------------------------------------------\u001b[0m",
      "\u001b[0;31mAttributeError\u001b[0m                            Traceback (most recent call last)",
      "Cell \u001b[0;32mIn[1], line 3\u001b[0m\n\u001b[1;32m      1\u001b[0m step \u001b[38;5;241m=\u001b[39m (\u001b[38;5;241m1\u001b[39m,\u001b[38;5;241m2\u001b[39m,\u001b[38;5;241m3\u001b[39m,\u001b[38;5;241m4\u001b[39m,\u001b[38;5;241m5\u001b[39m)\n\u001b[0;32m----> 3\u001b[0m \u001b[38;5;28mprint\u001b[39m(\u001b[43mstep\u001b[49m\u001b[38;5;241;43m.\u001b[39;49m\u001b[43mlast\u001b[49m())\n",
      "\u001b[0;31mAttributeError\u001b[0m: 'tuple' object has no attribute 'last'"
     ]
    }
   ],
   "source": [
    "step = (1,2,3,4,5)\n",
    "\n",
    "print(step.last())"
   ]
  },
  {
   "cell_type": "code",
   "execution_count": 4,
   "metadata": {},
   "outputs": [
    {
     "name": "stdout",
     "output_type": "stream",
     "text": [
      "Error locating class: Error loading 'agents.drq_agent.DRQAgent':\n",
      "ModuleNotFoundError(\"No module named 'agents'\")\n",
      "Are you sure that module 'agents' is installed?\n"
     ]
    }
   ],
   "source": [
    "from hydra._internal.utils import _locate\n",
    "\n",
    "# Try locating the class to see if it raises an error\n",
    "try:\n",
    "  cls = _locate(\"agents.drq_agent.DRQAgent\")\n",
    "  print(\"Class found:\", cls)\n",
    "except Exception as e:\n",
    "  print(\"Error locating class:\", e)\n"
   ]
  },
  {
   "cell_type": "code",
   "execution_count": null,
   "metadata": {},
   "outputs": [],
   "source": [
    "{'name': 'drq_agent', 'class': 'agents.drq_agent.DRQAgent', 'params': {'obs_shape': [9, 84, 84], 'action_shape': [1], 'action_range': [-1.0, 1.0], 'device': 'cuda', 'encoder_cfg': {'class': 'drq_agent.Encoder', 'params': {'obs_shape': [9, 84, 84], 'feature_dim': 50}}, 'critic_cfg': {'class': 'drq_agent.Critic', 'params': {'encoder_cfg': {'class': 'drq_agent.Encoder', 'params': {'obs_shape': [9, 84, 84], 'feature_dim': 50}}, 'action_shape': [1], 'hidden_dim': 1024, 'hidden_depth': 2}}, 'actor_cfg': {'class': 'drq_agent.Actor', 'params': {'encoder_cfg': {'class': 'drq_agent.Encoder', 'params': {'obs_shape': [9, 84, 84], 'feature_dim': 50}}, 'action_shape': [1], 'hidden_depth': 2, 'hidden_dim': 1024, 'log_std_bounds': [-10, 2]}}, 'discount': 0.99, 'init_temperature': 0.1, 'lr': 0.001, 'actor_update_frequency': 2, 'critic_tau': 0.01, 'critic_target_update_frequency': 2, 'batch_size': 512}}"
   ]
  },
  {
   "cell_type": "code",
   "execution_count": null,
   "metadata": {},
   "outputs": [],
   "source": []
  }
 ],
 "metadata": {
  "kernelspec": {
   "display_name": "cloudspace",
   "language": "python",
   "name": "python3"
  },
  "language_info": {
   "codemirror_mode": {
    "name": "ipython",
    "version": 3
   },
   "file_extension": ".py",
   "mimetype": "text/x-python",
   "name": "python",
   "nbconvert_exporter": "python",
   "pygments_lexer": "ipython3",
   "version": "3.10.10"
  }
 },
 "nbformat": 4,
 "nbformat_minor": 2
}
