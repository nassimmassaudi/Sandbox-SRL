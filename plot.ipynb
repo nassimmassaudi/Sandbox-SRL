{
 "cells": [
  {
   "cell_type": "code",
   "execution_count": null,
   "metadata": {},
   "outputs": [],
   "source": [
    "import pandas as pd\n",
    "import json\n",
    "import matplotlib.pyplot as plt\n",
    "\n",
    "\n",
    "CB_color_cycle = ['#377eb8', '#ff7f00', '#4daf4a',\n",
    "                  '#f781bf', '#a65628', '#984ea3',\n",
    "                  '#999999', '#e41a1c', '#dede00']\n",
    "\n",
    "\n",
    "def load_unique_data(file_path):\n",
    "    data = []\n",
    "    with open(file_path, 'r') as file:\n",
    "        for line in file:\n",
    "            data.append(json.loads(line.strip()))  \n",
    "    df = pd.DataFrame(data).sort_values(by=\"episode\")  # Sort by episode\n",
    "    df = df.drop_duplicates(subset=\"episode\", keep=\"last\")  # Keep last occurrence if duplicates\n",
    "    return df\n",
    "\n",
    "# TODO\n",
    "# File paths for the SRL methods\n",
    "files = {\n",
    "    \"CPC\": \"cpc.txt\",\n",
    "    \"DBC\": \"dbc.txt\",\n",
    "    \"DeepMDP\": \"deepmdp.txt\",\n",
    "    \"RAD\": \"rad.txt\",\n",
    "    # \"CURL\": \"curl.txt\"\n",
    "}\n",
    "\n",
    "# Load data for each method with unique episodes\n",
    "srl_data = {key: load_unique_data(path) for key, path in files.items()}\n",
    "\n",
    "# Plotting the data\n",
    "fig, ax = plt.subplots(figsize=(10, 6))\n",
    "for (key, df), color in zip(srl_data.items(), CB_color_cycle):\n",
    "    ax.plot(df[\"episode\"], df[\"episode_reward\"], label=key, color=color)\n",
    "\n",
    "# Set plot labels and title\n",
    "ax.set_xlabel(\"Episode\")\n",
    "ax.set_ylabel(\"Reward\")\n",
    "ax.set_title(\"Cheetah Performance on Various SRL Methods\")\n",
    "ax.legend()\n",
    "plt.grid(True)\n",
    "\n",
    "# Display the plot\n",
    "plt.show()"
   ]
  }
 ],
 "metadata": {
  "language_info": {
   "name": "python"
  }
 },
 "nbformat": 4,
 "nbformat_minor": 2
}
